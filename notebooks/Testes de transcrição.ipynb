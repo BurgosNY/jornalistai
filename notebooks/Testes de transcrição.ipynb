{
 "cells": [
  {
   "cell_type": "markdown",
   "id": "201e64ea-8a64-4760-8117-ac240b2f623b",
   "metadata": {},
   "source": [
    "## Usando ChatGPT para \"re-entrevistar\" um arquivo de áudio\n",
    "\n",
    "Passo a passo:\n",
    "1. Gravar entrevista e converter para .mp3  \n",
    "2. Transcrever usando [Whisper](https://openai.com/research/whisper)  \n",
    "3. Transformar transcrição em um json com marcações de tempo  \n",
    "4. Criar código que gera marcação temporal a partir de uma pergunta  "
   ]
  },
  {
   "cell_type": "markdown",
   "id": "c4ed3027-7c51-4f86-aff4-45bc95a12ab5",
   "metadata": {},
   "source": [
    "## Transcrevendo o áudio"
   ]
  },
  {
   "cell_type": "code",
   "execution_count": 39,
   "id": "3851ff51-a768-488b-b01a-f4ab226096c5",
   "metadata": {},
   "outputs": [
    {
     "data": {
      "text/plain": [
       "['entrevista.mp3']"
      ]
     },
     "execution_count": 39,
     "metadata": {},
     "output_type": "execute_result"
    }
   ],
   "source": [
    "import os\n",
    "\n",
    "os.listdir('../static/audio')"
   ]
  },
  {
   "cell_type": "code",
   "execution_count": 41,
   "id": "8467f102-1ebe-49cf-8d52-0ad42e6b9f58",
   "metadata": {},
   "outputs": [
    {
     "name": "stderr",
     "output_type": "stream",
     "text": [
      "/opt/homebrew/lib/python3.11/site-packages/whisper/transcribe.py:114: UserWarning: FP16 is not supported on CPU; using FP32 instead\n",
      "  warnings.warn(\"FP16 is not supported on CPU; using FP32 instead\")\n"
     ]
    },
    {
     "name": "stdout",
     "output_type": "stream",
     "text": [
      " O texto é: \n",
      "  É muito difícil prever qual vai ser o impacto da inteligência artificial nos empregos, mas a gente sabe que algumas indústrias vão ser mais impactadas no primeiro momento que outras. Por exemplo, a gente sabe que atendimento de calcênter, atendimento ao consumidor, isso tem uma chance grande de ser automatizado. Vários serviços de direito, por exemplo, de escritório de vocacia, também podem ser automatizados. Então, a gente deve pensar muito mais em termos de quais tarefas podem ser automatizadas e não empregos completamente. Certamente, a gente vê mais tipos de trabalho que podem ser mais automatizados que outros. O tema de quais empresas podem lucrar mais com a inteligência artificial, eu citaria especialmente a OPNAI, que é a empresa que trouxe esse assunto, a tona via chat.pt e outras funcionalidades. Certamente, a Microsoft que investiu na OPNAI, e acho que foi aqui mais rapidamente incluiu as funcionalidades de inteligência artificial nos seus produtos, no Word, no PowerPoint, no Excel, e o Google está acorrendo um pouco por fora, porque ele atrasou um pouco o uso dessas tecnologias nos seus produtos. Mas eu acho que a grande empresa em que pouca gente fala é a meta, é o Facebook, que tem o investimento muito grande em diversas coisas relacionadas à inteligência artificial, especialmente e até suprinentemente abrindo o código de várias invenções deles. O impacto no Brasil é difícil da gente mensurada, a gente saber. Talvez a inteligência artificial seja uma ferramenta que permita com que a gente crie em pregos um pouco mais produtivos, a gente tem problemas de produtividade frente a outros concorrentes. Então, a IPA pode ser, talvez, o grande equalisador em termos de capacidade produtiva. Mas a gente certamente está muito para trás em termos de patentes, de conhecimento, a gente vai consumir o que vem de fora, mas a gente pode achar formas criativas de utilizar essas tecnologias. Certamente a inteligência artificial impacta a programação, a forma com que a gente aprende a fazer programas de computador. É muito difícil saber se a gente precisa mais ou menos aprender uma linguagem como Python, por exemplo, dado que produtos como chat, chat, e PT, o Copilot, do GitHub, podem te ajudar a programar, a fazer código, a fazer programas. É difícil dizer qual impacto na programação. O que a gente sabe é que pessoas que já têm alguma familiaridade vão produzir muito mais, porque é como se elas tivessem diversos assistentes, funcionários junios na sua equipe. E a produtividade vai aumentar certamente nas profissões que souberem usar melhor a inteligência artificial, especialmente neste modo, na inteligência artificial e generativa, para poder não automatizar, mas simplificar tarefas que são chatas, seja o primeiro rasco de um texto, seja a sumarização de uma reunião, a criação de uma apresentação, e várias coisas que a gente casta tempo, que não são exatamente trabalhos intelectuais, vários funções vão poder se beneficiar disso. Então eu acho que a produtividade pode aumentar em diversas carreiras, desde que a gente use especialmente para isso. A inteligência artificial tem uma grande capacidade de ser uma tecnologia destrativa, de tirar o nosso tempo, tirar o nosso foco. Muita gente diz que o perigo da inteligência artificial, de que ela pode dominar a rassumana, de a gente olha vários filmes que têm essa visão destópica do futuro, e olha um pouco para frente de quando a inteligência artificial geral, foi mais inteligente humano que a gente vai ter vários problemas. Isso é um risco, claro, isso é um risco existencial, eu acho que ele é menor do que muita gente diz, mas acho que a gente tem que pensar nos perigos da IA, mas em um futuro mais próximo, por exemplo, quando a gente pensa em golpes, é muito mais fácil você criar um golpe personalizado hoje em dia, desinformação e esse tipo de coisa. Então eu acho que há riscos de longo prazo, os extensuais, mas eu me preocuparia mais com os perigos que podem acontecer amanhã. Há muito incertez, no momento, então é difícil precisar qual que vai ser o impacto no jornalismo, mas a gente sabe que, olhando para outras profissões que usam bastante ascritas, sumarização de ideias, não há como fingir que não vai ser afetado. Em grande parte, o trabalho do jornalista é transformado dados, informações brutas, entestos em coisas e informação que pode ser útil para a sociedade. Eu acho que o GPD, tecnologias de IA generativa podem ajudar bastante nisso e eu acho que falta um pouco mais de criatividade para gente imaginar os diferentes cenários.\n"
     ]
    }
   ],
   "source": [
    "# Ver a diferença de modelos aqui: https://github.com/openai/whisper\n",
    "import whisper\n",
    "\n",
    "model = whisper.load_model(\"base\") # Modelo mais simples\n",
    "result = model.transcribe(\"../static/audio/entrevista.mp3\")\n",
    "print(f' O texto é: \\n {result[\"text\"]}')"
   ]
  },
  {
   "cell_type": "code",
   "execution_count": 4,
   "id": "80a777f6-bcd0-4df6-a144-53ddedbfef03",
   "metadata": {},
   "outputs": [
    {
     "name": "stderr",
     "output_type": "stream",
     "text": [
      "100%|█████████████████████████████████████| 2.87G/2.87G [09:15<00:00, 5.55MiB/s]\n",
      "/opt/homebrew/lib/python3.11/site-packages/whisper/transcribe.py:114: UserWarning: FP16 is not supported on CPU; using FP32 instead\n",
      "  warnings.warn(\"FP16 is not supported on CPU; using FP32 instead\")\n"
     ]
    },
    {
     "name": "stdout",
     "output_type": "stream",
     "text": [
      " The text in video: \n",
      "  É muito difícil prever qual vai ser o impacto da inteligência artificial nos empregos, mas a gente sabe que algumas indústrias vão ser mais impactadas num primeiro momento que outras. Por exemplo, a gente sabe que atendimento de call center, atendimento ao consumidor, isso tem uma chance grande de ser automatizado. Vários serviços de direito, por exemplo, de escritório de advocacia, também podem ser automatizados. Então a gente deve pensar muito mais em termos de quais tarefas podem ser automatizadas e não empregos completamente. Certamente a gente vê mais tipos de trabalho que podem ser mais automatizados que outros. Em termos de quais empresas podem lucrar mais com a inteligência artificial, eu citaria especialmente a OpenAI, que é a empresa que trouxe esse assunto à tona via chat e pt e outras funcionalidades. Certamente a Microsoft que investiu na OpenAI e acho que foi a que mais rapidamente incluiu as funcionalidades de inteligência artificial nos seus produtos, no Word, no PowerPoint, no Excel. E o Google está correndo um pouco por fora, porque ele atrasou um pouco o uso dessas tecnologias nos seus produtos. Mas eu acho que a grande empresa em que pouca gente fala é a Meta, é o Facebook, que tem um investimento muito grande em diversas coisas relacionadas à inteligência artificial, especialmente e até surpreendentemente abrindo o código de várias invenções deles. O impacto no Brasil é difícil da gente mensurar, da gente saber. Talvez a inteligência artificial seja uma ferramenta que permita com que a gente crie empregos um pouco mais produtivos, a gente tem problemas de produtividade frente a outros concorrentes. Então a IA pode ser talvez o grande equalizador em termos de capacidade produtiva. Mas a gente certamente está muito para trás em termos de patentes, de conhecimento. A gente vai consumir o que vem de fora, mas a gente pode achar formas criativas de utilizar essas tecnologias. Certamente a inteligência artificial impacta a programação, a forma com que a gente aprende a fazer programas de computador. É muito difícil saber se a gente precisa mais ou menos aprender uma linguagem como Python, por exemplo. Dado que produtos como o ChatGPT, o Copilot do GitHub, podem te ajudar a programar, a fazer código, a fazer programas. Então é difícil dizer qual é o impacto na programação. O que a gente sabe é que pessoas que já têm alguma familiaridade vão produzir muito mais, porque é como se elas tivessem diversos assistentes, funcionários júniors na sua equipe. E a produtividade vai aumentar certamente nas profissões que souberem usar melhor a inteligência artificial, especialmente neste modo da inteligência artificial generativa, para poder não automatizar, mas simplificar tarefas que são chatas. Seja o primeiro rascunho de um texto, seja a sumarização de uma reunião, a criação de uma apresentação e várias coisas que a gente gasta tempo, que não são exatamente trabalhos intelectuais, várias funções vão poder se beneficiar disso. Então eu acho que a produtividade pode aumentar em diversas carreiras, desde que a gente use especialmente para isso. A inteligência artificial tem uma grande capacidade de ser uma tecnologia distrativa, de tirar o nosso tempo, tirar o nosso foco. Muita gente diz que o perigo da inteligência artificial é que ela pode dominar a raça humana. A gente olha vários filmes que tem essa visão distópica do futuro, e olha um pouco para frente de quando a inteligência artificial geral for mais inteligente que o humano, que a gente vai ter vários problemas. Eu acho que isso é um risco, claro, isso é um risco existencial. Eu acho que ele é menor do que muita gente diz, mas eu acho que a gente tem que pensar nos perigos da IA em um futuro mais próximo. Por exemplo, quando a gente pensa em golpes. É muito mais fácil você criar um golpe personalizado hoje em dia, desinformação e esse tipo de coisa. Então eu acho que há riscos de longo prazo existenciais, eu me preocuparia mais com os perigos que podem acontecer amanhã. Há muita incerteza no momento, então é difícil precisar qual vai ser o impacto no jornalismo. Mas a gente sabe que olhando para outras profissões que usam bastante a escrita, a sumarização de ideias, não há como fingir que não vai ser afetado. Em grande parte o trabalho do jornalista é transformar dados, informações brutas, em textos, em coisas, em informação que pode ser útil para a sociedade. Eu acho que o GPT, tecnologias de IA generativa podem ajudar bastante nisso e eu acho que falta um pouco mais de criatividade para a gente imaginar os diferentes cenários.\n"
     ]
    }
   ],
   "source": [
    "# Agora usando o modelo \"large\", que demora mais mas é bem mais preciso.\n",
    "model = whisper.load_model(\"large\")\n",
    "result = model.transcribe(\"entrevista.mp3\")\n",
    "print(f' The text in video: \\n {result[\"text\"]}')"
   ]
  },
  {
   "cell_type": "code",
   "execution_count": 13,
   "id": "892f0c1f-ce95-41c7-8cbe-0318b8e78a2b",
   "metadata": {},
   "outputs": [],
   "source": [
    "# Agora a gente limpa o json para ficar apenas com dados que precisamos\n",
    "data = []\n",
    "for x in result['segments']:\n",
    "    obj = {}\n",
    "    obj['start'] = x['start']\n",
    "    obj['end'] = x['end']\n",
    "    obj['text'] = x['text']\n",
    "    data.append(obj)\n",
    "\n",
    "transcricao = {\"text\": result['text'], \"segments\": data}"
   ]
  },
  {
   "cell_type": "code",
   "execution_count": 28,
   "id": "56746611-f749-4f70-b2fb-b6b79d939e78",
   "metadata": {
    "scrolled": true
   },
   "outputs": [
    {
     "data": {
      "text/plain": [
       "{'text': ' É muito difícil prever qual vai ser o impacto da inteligência artificial nos empregos, mas a gente sabe que algumas indústrias vão ser mais impactadas no primeiro momento que outras. Por exemplo, a gente sabe que atendimento de calcênter, atendimento ao consumidor, isso tem uma chance grande de ser automatizado. Vários serviços de direito, por exemplo, de escritório de vocacia, também podem ser automatizados. Então, a gente deve pensar muito mais em termos de quais tarefas podem ser automatizadas e não empregos completamente. Certamente, a gente vê mais tipos de trabalho que podem ser mais automatizados que outros. O tema de quais empresas podem lucrar mais com a inteligência artificial, eu citaria especialmente a OPNAI, que é a empresa que trouxe esse assunto, a tona via chat.pt e outras funcionalidades. Certamente, a Microsoft que investiu na OPNAI, e acho que foi aqui mais rapidamente incluiu as funcionalidades de inteligência artificial nos seus produtos, no Word, no PowerPoint, no Excel, e o Google está acorrendo um pouco por fora, porque ele atrasou um pouco o uso dessas tecnologias nos seus produtos. Mas eu acho que a grande empresa em que pouca gente fala é a meta, é o Facebook, que tem o investimento muito grande em diversas coisas relacionadas à inteligência artificial, especialmente e até suprinentemente abrindo o código de várias invenções deles. O impacto no Brasil é difícil da gente mensurada, a gente saber. Talvez a inteligência artificial seja uma ferramenta que permita com que a gente crie em pregos um pouco mais produtivos, a gente tem problemas de produtividade frente a outros concorrentes. Então, a IPA pode ser, talvez, o grande equalisador em termos de capacidade produtiva. Mas a gente certamente está muito para trás em termos de patentes, de conhecimento, a gente vai consumir o que vem de fora, mas a gente pode achar formas criativas de utilizar essas tecnologias. Certamente a inteligência artificial impacta a programação, a forma com que a gente aprende a fazer programas de computador. É muito difícil saber se a gente precisa mais ou menos aprender uma linguagem como Python, por exemplo, dado que produtos como chat, chat, e PT, o Copilot, do GitHub, podem te ajudar a programar, a fazer código, a fazer programas. É difícil dizer qual impacto na programação. O que a gente sabe é que pessoas que já têm alguma familiaridade vão produzir muito mais, porque é como se elas tivessem diversos assistentes, funcionários junios na sua equipe. E a produtividade vai aumentar certamente nas profissões que souberem usar melhor a inteligência artificial, especialmente neste modo, na inteligência artificial e generativa, para poder não automatizar, mas simplificar tarefas que são chatas, seja o primeiro rasco de um texto, seja a sumarização de uma reunião, a criação de uma apresentação, e várias coisas que a gente casta tempo, que não são exatamente trabalhos intelectuais, vários funções vão poder se beneficiar disso. Então eu acho que a produtividade pode aumentar em diversas carreiras, desde que a gente use especialmente para isso. A inteligência artificial tem uma grande capacidade de ser uma tecnologia destrativa, de tirar o nosso tempo, tirar o nosso foco. Muita gente diz que o perigo da inteligência artificial, de que ela pode dominar a rassumana, de a gente olha vários filmes que têm essa visão destópica do futuro, e olha um pouco para frente de quando a inteligência artificial geral, foi mais inteligente humano que a gente vai ter vários problemas. Isso é um risco, claro, isso é um risco existencial, eu acho que ele é menor do que muita gente diz, mas acho que a gente tem que pensar nos perigos da IA, mas em um futuro mais próximo, por exemplo, quando a gente pensa em golpes, é muito mais fácil você criar um golpe personalizado hoje em dia, desinformação e esse tipo de coisa. Então eu acho que há riscos de longo prazo, os extensuais, mas eu me preocuparia mais com os perigos que podem acontecer amanhã. Há muito incertez, no momento, então é difícil precisar qual que vai ser o impacto no jornalismo, mas a gente sabe que, olhando para outras profissões que usam bastante ascritas, sumarização de ideias, não há como fingir que não vai ser afetado. Em grande parte, o trabalho do jornalista é transformado dados, informações brutas, entestos em coisas e informação que pode ser útil para a sociedade. Eu acho que o GPD, tecnologias de IA generativa podem ajudar bastante nisso e eu acho que falta um pouco mais de criatividade para gente imaginar os diferentes cenários.',\n",
       " 'segments': [{'start': 0.0,\n",
       "   'end': 7.0,\n",
       "   'text': ' É muito difícil prever qual vai ser o impacto da inteligência artificial nos empregos,'},\n",
       "  {'start': 7.0,\n",
       "   'end': 13.0,\n",
       "   'text': ' mas a gente sabe que algumas indústrias vão ser mais impactadas no primeiro momento que outras.'},\n",
       "  {'start': 13.0,\n",
       "   'end': 19.0,\n",
       "   'text': ' Por exemplo, a gente sabe que atendimento de calcênter, atendimento ao consumidor,'},\n",
       "  {'start': 19.0,\n",
       "   'end': 23.0,\n",
       "   'text': ' isso tem uma chance grande de ser automatizado.'},\n",
       "  {'start': 23.0,\n",
       "   'end': 31.0,\n",
       "   'text': ' Vários serviços de direito, por exemplo, de escritório de vocacia, também podem ser automatizados.'},\n",
       "  {'start': 31.0,\n",
       "   'end': 37.0,\n",
       "   'text': ' Então, a gente deve pensar muito mais em termos de quais tarefas podem ser automatizadas'},\n",
       "  {'start': 37.0, 'end': 39.0, 'text': ' e não empregos completamente.'},\n",
       "  {'start': 39.0,\n",
       "   'end': 46.0,\n",
       "   'text': ' Certamente, a gente vê mais tipos de trabalho que podem ser mais automatizados que outros.'},\n",
       "  {'start': 47.0,\n",
       "   'end': 54.0,\n",
       "   'text': ' O tema de quais empresas podem lucrar mais com a inteligência artificial,'},\n",
       "  {'start': 54.0,\n",
       "   'end': 62.0,\n",
       "   'text': ' eu citaria especialmente a OPNAI, que é a empresa que trouxe esse assunto,'},\n",
       "  {'start': 62.0,\n",
       "   'end': 66.0,\n",
       "   'text': ' a tona via chat.pt e outras funcionalidades.'},\n",
       "  {'start': 67.0,\n",
       "   'end': 73.0,\n",
       "   'text': ' Certamente, a Microsoft que investiu na OPNAI, e acho que foi aqui mais rapidamente'},\n",
       "  {'start': 73.0,\n",
       "   'end': 79.0,\n",
       "   'text': ' incluiu as funcionalidades de inteligência artificial nos seus produtos,'},\n",
       "  {'start': 79.0,\n",
       "   'end': 87.0,\n",
       "   'text': ' no Word, no PowerPoint, no Excel, e o Google está acorrendo um pouco por fora,'},\n",
       "  {'start': 87.0,\n",
       "   'end': 93.0,\n",
       "   'text': ' porque ele atrasou um pouco o uso dessas tecnologias nos seus produtos.'},\n",
       "  {'start': 93.0,\n",
       "   'end': 98.0,\n",
       "   'text': ' Mas eu acho que a grande empresa em que pouca gente fala é a meta,'},\n",
       "  {'start': 98.0,\n",
       "   'end': 106.0,\n",
       "   'text': ' é o Facebook, que tem o investimento muito grande em diversas coisas relacionadas à inteligência artificial,'},\n",
       "  {'start': 106.0,\n",
       "   'end': 114.0,\n",
       "   'text': ' especialmente e até suprinentemente abrindo o código de várias invenções deles.'},\n",
       "  {'start': 117.0,\n",
       "   'end': 122.0,\n",
       "   'text': ' O impacto no Brasil é difícil da gente mensurada, a gente saber.'},\n",
       "  {'start': 123.0,\n",
       "   'end': 131.0,\n",
       "   'text': ' Talvez a inteligência artificial seja uma ferramenta que permita com que a gente crie em pregos'},\n",
       "  {'start': 131.0,\n",
       "   'end': 136.0,\n",
       "   'text': ' um pouco mais produtivos, a gente tem problemas de produtividade frente a outros concorrentes.'},\n",
       "  {'start': 137.0,\n",
       "   'end': 143.0,\n",
       "   'text': ' Então, a IPA pode ser, talvez, o grande equalisador em termos de capacidade produtiva.'},\n",
       "  {'start': 145.0,\n",
       "   'end': 150.0,\n",
       "   'text': ' Mas a gente certamente está muito para trás em termos de patentes, de conhecimento,'},\n",
       "  {'start': 150.0,\n",
       "   'end': 158.0,\n",
       "   'text': ' a gente vai consumir o que vem de fora, mas a gente pode achar formas criativas de utilizar essas tecnologias.'},\n",
       "  {'start': 161.0,\n",
       "   'end': 170.0,\n",
       "   'text': ' Certamente a inteligência artificial impacta a programação, a forma com que a gente aprende a fazer programas de computador.'},\n",
       "  {'start': 170.0,\n",
       "   'end': 178.0,\n",
       "   'text': ' É muito difícil saber se a gente precisa mais ou menos aprender uma linguagem como Python, por exemplo,'},\n",
       "  {'start': 178.0,\n",
       "   'end': 183.0,\n",
       "   'text': ' dado que produtos como chat, chat, e PT, o Copilot, do GitHub,'},\n",
       "  {'start': 183.0,\n",
       "   'end': 187.0,\n",
       "   'text': ' podem te ajudar a programar, a fazer código, a fazer programas.'},\n",
       "  {'start': 188.0,\n",
       "   'end': 191.0,\n",
       "   'text': ' É difícil dizer qual impacto na programação.'},\n",
       "  {'start': 191.0,\n",
       "   'end': 197.0,\n",
       "   'text': ' O que a gente sabe é que pessoas que já têm alguma familiaridade vão produzir muito mais,'},\n",
       "  {'start': 198.0,\n",
       "   'end': 203.0,\n",
       "   'text': ' porque é como se elas tivessem diversos assistentes, funcionários junios na sua equipe.'},\n",
       "  {'start': 203.0,\n",
       "   'end': 217.0,\n",
       "   'text': ' E a produtividade vai aumentar certamente nas profissões que souberem usar melhor a inteligência artificial,'},\n",
       "  {'start': 217.0,\n",
       "   'end': 223.0,\n",
       "   'text': ' especialmente neste modo, na inteligência artificial e generativa,'},\n",
       "  {'start': 223.0,\n",
       "   'end': 230.0,\n",
       "   'text': ' para poder não automatizar, mas simplificar tarefas que são chatas,'},\n",
       "  {'start': 230.0,\n",
       "   'end': 239.0,\n",
       "   'text': ' seja o primeiro rasco de um texto, seja a sumarização de uma reunião, a criação de uma apresentação,'},\n",
       "  {'start': 239.0,\n",
       "   'end': 243.0,\n",
       "   'text': ' e várias coisas que a gente casta tempo, que não são exatamente trabalhos intelectuais,'},\n",
       "  {'start': 243.0,\n",
       "   'end': 248.0,\n",
       "   'text': ' vários funções vão poder se beneficiar disso.'},\n",
       "  {'start': 248.0,\n",
       "   'end': 252.0,\n",
       "   'text': ' Então eu acho que a produtividade pode aumentar em diversas carreiras,'},\n",
       "  {'start': 252.0,\n",
       "   'end': 256.0,\n",
       "   'text': ' desde que a gente use especialmente para isso.'},\n",
       "  {'start': 256.0,\n",
       "   'end': 262.0,\n",
       "   'text': ' A inteligência artificial tem uma grande capacidade de ser uma tecnologia destrativa,'},\n",
       "  {'start': 262.0,\n",
       "   'end': 264.0,\n",
       "   'text': ' de tirar o nosso tempo, tirar o nosso foco.'},\n",
       "  {'start': 269.0,\n",
       "   'end': 272.0,\n",
       "   'text': ' Muita gente diz que o perigo da inteligência artificial,'},\n",
       "  {'start': 272.0,\n",
       "   'end': 280.0,\n",
       "   'text': ' de que ela pode dominar a rassumana, de a gente olha vários filmes que têm essa visão destópica do futuro,'},\n",
       "  {'start': 280.0,\n",
       "   'end': 286.0,\n",
       "   'text': ' e olha um pouco para frente de quando a inteligência artificial geral,'},\n",
       "  {'start': 286.0,\n",
       "   'end': 291.0,\n",
       "   'text': ' foi mais inteligente humano que a gente vai ter vários problemas.'},\n",
       "  {'start': 291.0,\n",
       "   'end': 296.0,\n",
       "   'text': ' Isso é um risco, claro, isso é um risco existencial,'},\n",
       "  {'start': 296.0,\n",
       "   'end': 298.0,\n",
       "   'text': ' eu acho que ele é menor do que muita gente diz,'},\n",
       "  {'start': 298.0,\n",
       "   'end': 302.0,\n",
       "   'text': ' mas acho que a gente tem que pensar nos perigos da IA,'},\n",
       "  {'start': 302.0,\n",
       "   'end': 305.0,\n",
       "   'text': ' mas em um futuro mais próximo, por exemplo,'},\n",
       "  {'start': 305.0, 'end': 309.0, 'text': ' quando a gente pensa em golpes,'},\n",
       "  {'start': 309.0,\n",
       "   'end': 314.0,\n",
       "   'text': ' é muito mais fácil você criar um golpe personalizado hoje em dia,'},\n",
       "  {'start': 314.0,\n",
       "   'end': 317.0,\n",
       "   'text': ' desinformação e esse tipo de coisa.'},\n",
       "  {'start': 317.0,\n",
       "   'end': 319.0,\n",
       "   'text': ' Então eu acho que há riscos de longo prazo,'},\n",
       "  {'start': 319.0,\n",
       "   'end': 326.0,\n",
       "   'text': ' os extensuais, mas eu me preocuparia mais com os perigos que podem acontecer amanhã.'},\n",
       "  {'start': 328.0,\n",
       "   'end': 331.0,\n",
       "   'text': ' Há muito incertez, no momento, então é difícil precisar'},\n",
       "  {'start': 331.0,\n",
       "   'end': 334.0,\n",
       "   'text': ' qual que vai ser o impacto no jornalismo,'},\n",
       "  {'start': 334.0,\n",
       "   'end': 340.0,\n",
       "   'text': ' mas a gente sabe que, olhando para outras profissões que usam'},\n",
       "  {'start': 340.0,\n",
       "   'end': 343.0,\n",
       "   'text': ' bastante ascritas, sumarização de ideias,'},\n",
       "  {'start': 343.0,\n",
       "   'end': 348.0,\n",
       "   'text': ' não há como fingir que não vai ser afetado.'},\n",
       "  {'start': 348.0,\n",
       "   'end': 352.0,\n",
       "   'text': ' Em grande parte, o trabalho do jornalista é transformado'},\n",
       "  {'start': 352.0, 'end': 355.0, 'text': ' dados, informações brutas,'},\n",
       "  {'start': 355.0,\n",
       "   'end': 361.0,\n",
       "   'text': ' entestos em coisas e informação que pode ser útil para a sociedade.'},\n",
       "  {'start': 361.0,\n",
       "   'end': 369.0,\n",
       "   'text': ' Eu acho que o GPD, tecnologias de IA generativa podem ajudar bastante nisso'},\n",
       "  {'start': 369.0,\n",
       "   'end': 374.0,\n",
       "   'text': ' e eu acho que falta um pouco mais de criatividade para gente imaginar os diferentes cenários.'}]}"
      ]
     },
     "execution_count": 28,
     "metadata": {},
     "output_type": "execute_result"
    }
   ],
   "source": [
    "transcricao"
   ]
  },
  {
   "cell_type": "markdown",
   "id": "3c888df6-65d4-4488-8c17-c2451b435119",
   "metadata": {},
   "source": [
    "## Usando a API da OpenAI"
   ]
  },
  {
   "cell_type": "code",
   "execution_count": 27,
   "id": "274a3b3c-4aed-4950-bd7d-2e7c12417669",
   "metadata": {},
   "outputs": [
    {
     "name": "stdout",
     "output_type": "stream",
     "text": [
      "{\n",
      "  \"start\": 328.0,\n",
      "  \"end\": 374.0\n",
      "}\n"
     ]
    }
   ],
   "source": [
    "from openai import OpenAI\n",
    "\n",
    "api = '' #Coloque sua API aqui\n",
    "client = OpenAI(api_key=api)\n",
    "\n",
    "pergunta = 'Qual o impacto de inteligência artificial no jornalismo?'\n",
    "\n",
    "\n",
    "response = client.chat.completions.create(\n",
    "  model=\"gpt-4-1106-preview\",\n",
    "  response_format={ \"type\": \"json_object\" },\n",
    "  messages=[\n",
    "    {\"role\": \"system\", \"content\": \"Você é um assistente solícito que responde em JSON. Sua resposta deve ser uma das duas opções: ou 'não sei' ou o 'start' e 'end' contidos na transcrição de uma entrevista.\"},\n",
    "    {\"role\": \"user\", \"content\": f\"Utilize essa transcrição de entrevista para responder uma pergunta: {transcricao}.\\nA pergunta é: {pergunta}\"}\n",
    "  ]\n",
    ")\n",
    "\n",
    "print(response.choices[0].message.content)"
   ]
  },
  {
   "cell_type": "code",
   "execution_count": null,
   "id": "798893c3-8981-42cc-ad4a-7d2225dcc562",
   "metadata": {},
   "outputs": [],
   "source": []
  }
 ],
 "metadata": {
  "kernelspec": {
   "display_name": "Python 3 (ipykernel)",
   "language": "python",
   "name": "python3"
  },
  "language_info": {
   "codemirror_mode": {
    "name": "ipython",
    "version": 3
   },
   "file_extension": ".py",
   "mimetype": "text/x-python",
   "name": "python",
   "nbconvert_exporter": "python",
   "pygments_lexer": "ipython3",
   "version": "3.11.5"
  }
 },
 "nbformat": 4,
 "nbformat_minor": 5
}
